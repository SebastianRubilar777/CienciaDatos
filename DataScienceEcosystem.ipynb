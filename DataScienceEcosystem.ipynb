{
 "cells": [
  {
   "cell_type": "markdown",
   "metadata": {},
   "source": [
    "<center>\n",
    "    <img src=\"https://cf-courses-data.s3.us.cloud-object-storage.appdomain.cloud/IBMDeveloperSkillsNetwork-DS0105EN-SkillsNetwork/labs/Module2/images/SN_web_lightmode.png\" width=\"300\" alt=\"cognitiveclass.ai logo\">\n",
    "</center>\n"
   ]
  },
  {
   "cell_type": "markdown",
   "metadata": {},
   "source": [
    "# Herramientas y Ecosistema de Ciencia de Datos"
   ]
  },
  {
   "cell_type": "markdown",
   "metadata": {},
   "source": [
    "En este cuaderno, se resumen las herramientas y el ecosistema de ciencia de datos."
   ]
  },
  {
   "cell_type": "markdown",
   "metadata": {},
   "source": [
    "Algunos de los lenguajes populares que usan los científicos de datos son:\n",
    "1. **Python**\n",
    "2. **R**\n",
    "3. **SQL**\n"
   ]
  },
  {
   "cell_type": "markdown",
   "metadata": {},
   "source": [
    "Algunas de las bibliotecas comúnmente usadas por los científicos de datos incluyen:\n",
    "1. **NumPy**\n",
    "2. **Pandas**\n",
    "3. **Matplotlib**"
   ]
  },
  {
   "cell_type": "markdown",
   "metadata": {},
   "source": [
    "|Herramientas de ciencia de datos   |\n",
    "|------------------------------------|\n",
    "| Jupyter Notebook                   |\n",
    "| RStudio                            |\n",
    "| Apache Zeppelin                    |"
   ]
  },
  {
   "cell_type": "markdown",
   "metadata": {},
   "source": [
    "### A continuación, se muestran algunos ejemplos de evaluación de expresiones aritméticas en Python\n",
    "\n",
    "| Expresión | Resultado |\n",
    "|---|---|\n",
    "| 2 + 2 | 4 |\n",
    "| 5 - 3 | 2 |\n",
    "| 4 * 2 | 8 |\n",
    "| 8 / 2 | 4.0 |\n",
    "| 7 % 3 | 1 |\n",
    "| 2 ** 3 | 8 |\n",
    "| (3 + 5) * 2 | 16 |"
   ]
  },
  {
   "cell_type": "code",
   "execution_count": 3,
   "metadata": {},
   "outputs": [
    {
     "name": "stdout",
     "output_type": "stream",
     "text": [
      "17\n"
     ]
    }
   ],
   "source": [
    "# Esta es una expresión aritmética simple para multiplicar y luego sumar números enteros.\n",
    "resultado = (3 * 4) + 5\n",
    "print(resultado)\n"
   ]
  },
  {
   "cell_type": "code",
   "execution_count": 4,
   "metadata": {},
   "outputs": [
    {
     "name": "stdout",
     "output_type": "stream",
     "text": [
      "200 minutos equivalen a 3.3333333333333335 horas.\n"
     ]
    }
   ],
   "source": [
    "# Esto convertirá 200 minutos en horas al dividirlos entre 60.\n",
    "horas = 200 / 60\n",
    "print(\"200 minutos equivalen a\", horas, \"horas.\")"
   ]
  },
  {
   "cell_type": "markdown",
   "metadata": {},
   "source": [
    "**Objetivos cubiertos por este cuaderno:**\n",
    "\n",
    "* **Enumerar los lenguajes populares para la ciencia de datos:** Hemos explorado los lenguajes de programación más utilizados en el campo de la ciencia de datos, como Python, R y SQL.\n",
    "* **Introducir conceptos básicos de programación:** Hemos aprendido los fundamentos de la programación, incluyendo variables, tipos de datos, operadores y estructuras de control.\n",
    "* **Realizar operaciones matemáticas básicas:** Hemos practicado operaciones aritméticas como suma, resta, multiplicación y división, así como conversiones de unidades.\n",
    "* **Crear y utilizar tablas:** Hemos aprendido a crear tablas para organizar y visualizar datos, utilizando herramientas como Markdown y bibliotecas de programación como Pandas."
   ]
  },
  {
   "cell_type": "markdown",
   "metadata": {},
   "source": [
    "#### Autor: Sebastián Rubilar Espinosa"
   ]
  }
 ],
 "metadata": {
  "kernelspec": {
   "display_name": "Python 3 (ipykernel)",
   "language": "python",
   "name": "python3"
  },
  "language_info": {
   "codemirror_mode": {
    "name": "ipython",
    "version": 3
   },
   "file_extension": ".py",
   "mimetype": "text/x-python",
   "name": "python",
   "nbconvert_exporter": "python",
   "pygments_lexer": "ipython3",
   "version": "3.11.9"
  }
 },
 "nbformat": 4,
 "nbformat_minor": 4
}
